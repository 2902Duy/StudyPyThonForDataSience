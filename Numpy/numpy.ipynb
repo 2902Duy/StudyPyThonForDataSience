{
 "cells": [
  {
   "cell_type": "code",
   "execution_count": 1,
   "id": "b28bb6d7-b441-4915-b1cf-538ce2c35e7a",
   "metadata": {},
   "outputs": [],
   "source": [
    "import numpy as np"
   ]
  },
  {
   "cell_type": "code",
   "execution_count": 45,
   "id": "580c80fd-8e26-4605-b90f-8ef2397afb56",
   "metadata": {},
   "outputs": [
    {
     "data": {
      "text/plain": [
       "array([1., 2., 3.])"
      ]
     },
     "execution_count": 45,
     "metadata": {},
     "output_type": "execute_result"
    }
   ],
   "source": [
    "np.array([1,2,3],dtype=float)"
   ]
  },
  {
   "cell_type": "code",
   "execution_count": 33,
   "id": "aed7bf6d-bab7-47bd-9047-da2b9519a665",
   "metadata": {},
   "outputs": [
    {
     "data": {
      "text/plain": [
       "(2, 3)"
      ]
     },
     "execution_count": 33,
     "metadata": {},
     "output_type": "execute_result"
    }
   ],
   "source": [
    "\n",
    "a= np.array([[1,2,3], [6,5,4]])\n",
    "a.shape"
   ]
  },
  {
   "cell_type": "code",
   "execution_count": 47,
   "id": "b69c23f0-8d35-4382-96e0-3ba9b0dee30a",
   "metadata": {},
   "outputs": [
    {
     "data": {
      "text/plain": [
       "array([[0, 0, 0, 0],\n",
       "       [0, 0, 0, 0]])"
      ]
     },
     "execution_count": 47,
     "metadata": {},
     "output_type": "execute_result"
    }
   ],
   "source": [
    "np.zeros([2,4],dtype='int32')"
   ]
  },
  {
   "cell_type": "code",
   "execution_count": 49,
   "id": "9e9daf77-1ab3-4b7f-839c-0392282de029",
   "metadata": {},
   "outputs": [
    {
     "data": {
      "text/plain": [
       "array([[1., 1., 1.],\n",
       "       [1., 1., 1.],\n",
       "       [1., 1., 1.]])"
      ]
     },
     "execution_count": 49,
     "metadata": {},
     "output_type": "execute_result"
    }
   ],
   "source": [
    "np.ones([3,3])"
   ]
  },
  {
   "cell_type": "code",
   "execution_count": 51,
   "id": "b065784b-2942-4f08-80ad-b673b6105cac",
   "metadata": {},
   "outputs": [
    {
     "data": {
      "text/plain": [
       "array([0, 2, 4, 6, 8])"
      ]
     },
     "execution_count": 51,
     "metadata": {},
     "output_type": "execute_result"
    }
   ],
   "source": [
    "np.arange(0,10,2)"
   ]
  },
  {
   "cell_type": "code",
   "execution_count": 53,
   "id": "4e4b87d0-ec26-40d1-b158-9a7fb0945325",
   "metadata": {},
   "outputs": [
    {
     "data": {
      "text/plain": [
       "array([[6, 6, 6, 6],\n",
       "       [6, 6, 6, 6],\n",
       "       [6, 6, 6, 6]])"
      ]
     },
     "execution_count": 53,
     "metadata": {},
     "output_type": "execute_result"
    }
   ],
   "source": [
    "np.full([3,4],6)"
   ]
  },
  {
   "cell_type": "code",
   "execution_count": 55,
   "id": "acd7b4ec-5757-4a6a-95e2-2ad25ceed321",
   "metadata": {},
   "outputs": [
    {
     "data": {
      "text/plain": [
       "array([0.  , 0.25, 0.5 , 0.75, 1.  ])"
      ]
     },
     "execution_count": 55,
     "metadata": {},
     "output_type": "execute_result"
    }
   ],
   "source": [
    "np.linspace(0,1,5)"
   ]
  },
  {
   "cell_type": "code",
   "execution_count": 57,
   "id": "2c9d3c66-05fb-4c41-b808-2e6d84cde242",
   "metadata": {},
   "outputs": [
    {
     "data": {
      "text/plain": [
       "array([[0.76971035, 0.04093972],\n",
       "       [0.73391543, 0.00971095]])"
      ]
     },
     "execution_count": 57,
     "metadata": {},
     "output_type": "execute_result"
    }
   ],
   "source": [
    "np.random.random([2,2])"
   ]
  },
  {
   "cell_type": "code",
   "execution_count": 73,
   "id": "dd4ccd19-ae4b-4d56-978d-e4eaea75e6c2",
   "metadata": {},
   "outputs": [
    {
     "data": {
      "text/plain": [
       "array([[0.5488135 , 0.71518937],\n",
       "       [0.60276338, 0.54488318]])"
      ]
     },
     "execution_count": 73,
     "metadata": {},
     "output_type": "execute_result"
    }
   ],
   "source": [
    "np.random.seed(0)\n",
    "np.random.random([2,2])"
   ]
  },
  {
   "cell_type": "code",
   "execution_count": 75,
   "id": "0ddfdb28-f119-462a-b40c-816835bfb6b6",
   "metadata": {},
   "outputs": [
    {
     "data": {
      "text/plain": [
       "array([[ 1.86755799, -0.97727788],\n",
       "       [ 0.95008842, -0.15135721]])"
      ]
     },
     "execution_count": 75,
     "metadata": {},
     "output_type": "execute_result"
    }
   ],
   "source": [
    "np.random.normal(0,1,[2,2])"
   ]
  },
  {
   "cell_type": "code",
   "execution_count": 93,
   "id": "bc4bf469-e093-4f50-8ecf-8429a64d9b06",
   "metadata": {},
   "outputs": [
    {
     "data": {
      "text/plain": [
       "array([[[2, 3, 3],\n",
       "        [2, 3, 4],\n",
       "        [1, 2, 9]],\n",
       "\n",
       "       [[1, 4, 6],\n",
       "        [8, 2, 3],\n",
       "        [0, 0, 6]],\n",
       "\n",
       "       [[0, 6, 3],\n",
       "        [3, 8, 8],\n",
       "        [8, 2, 3]]])"
      ]
     },
     "execution_count": 93,
     "metadata": {},
     "output_type": "execute_result"
    }
   ],
   "source": [
    "np.random.randint(0,10,(3,3,3))"
   ]
  },
  {
   "cell_type": "code",
   "execution_count": 91,
   "id": "7f244942-9ede-4edd-b89f-f6aff595e715",
   "metadata": {},
   "outputs": [
    {
     "data": {
      "text/plain": [
       "array([[[[0.45615033, 0.56843395, 0.0187898 , 0.6176355 ],\n",
       "         [0.61209572, 0.616934  , 0.94374808, 0.6818203 ],\n",
       "         [0.3595079 , 0.43703195, 0.6976312 , 0.06022547]],\n",
       "\n",
       "        [[0.66676672, 0.67063787, 0.21038256, 0.1289263 ],\n",
       "         [0.31542835, 0.36371077, 0.57019677, 0.43860151],\n",
       "         [0.98837384, 0.10204481, 0.20887676, 0.16130952]]],\n",
       "\n",
       "\n",
       "       [[[0.65310833, 0.2532916 , 0.46631077, 0.24442559],\n",
       "         [0.15896958, 0.11037514, 0.65632959, 0.13818295],\n",
       "         [0.19658236, 0.36872517, 0.82099323, 0.09710128]],\n",
       "\n",
       "        [[0.83794491, 0.09609841, 0.97645947, 0.4686512 ],\n",
       "         [0.97676109, 0.60484552, 0.73926358, 0.03918779],\n",
       "         [0.28280696, 0.12019656, 0.2961402 , 0.11872772]]]])"
      ]
     },
     "execution_count": 91,
     "metadata": {},
     "output_type": "execute_result"
    }
   ],
   "source": [
    "np.random.rand(2,2,3,4)"
   ]
  },
  {
   "cell_type": "code",
   "execution_count": 127,
   "id": "d72b79c2-c7b1-4b94-820f-2f84b49a4db4",
   "metadata": {},
   "outputs": [],
   "source": []
  },
  {
   "cell_type": "code",
   "execution_count": 129,
   "id": "d1ac204f-b9a5-409c-ba8d-75bf99f8fca4",
   "metadata": {},
   "outputs": [
    {
     "name": "stdout",
     "output_type": "stream",
     "text": [
      "[[2 5 5]]\n"
     ]
    }
   ],
   "source": [
    "print(x)\n"
   ]
  },
  {
   "cell_type": "code",
   "execution_count": 131,
   "id": "20b038d6-be95-476f-9dbc-03bacf2efc44",
   "metadata": {},
   "outputs": [
    {
     "data": {
      "text/plain": [
       "array([[2],\n",
       "       [5],\n",
       "       [5]])"
      ]
     },
     "execution_count": 131,
     "metadata": {},
     "output_type": "execute_result"
    }
   ],
   "source": [
    "x.T"
   ]
  },
  {
   "cell_type": "code",
   "execution_count": 141,
   "id": "0466db70-e07b-4221-b6bf-8288b634db53",
   "metadata": {},
   "outputs": [
    {
     "data": {
      "text/plain": [
       "array([[5, 5, 5],\n",
       "       [2, 5, 7]])"
      ]
     },
     "execution_count": 141,
     "metadata": {},
     "output_type": "execute_result"
    }
   ],
   "source": [
    "x=np.random.randint(0,10,(1,3))\n",
    "x1=np.random.randint(0,10,(1,3))\n",
    "np.vstack((x,x1))"
   ]
  },
  {
   "cell_type": "code",
   "execution_count": 177,
   "id": "77a795c7-7bf1-4af4-9786-e5f04fd14d02",
   "metadata": {},
   "outputs": [],
   "source": [
    "a= np.arange(3).reshape(1,3)"
   ]
  },
  {
   "cell_type": "code",
   "execution_count": 181,
   "id": "13c3ef06-6765-4320-b8ee-ed7f36df6906",
   "metadata": {},
   "outputs": [
    {
     "data": {
      "text/plain": [
       "array([[0],\n",
       "       [1],\n",
       "       [2]])"
      ]
     },
     "execution_count": 181,
     "metadata": {},
     "output_type": "execute_result"
    }
   ],
   "source": [
    "a"
   ]
  },
  {
   "cell_type": "code",
   "execution_count": 147,
   "id": "ce40d5a7-15f7-44fc-9bac-7e98ce8db543",
   "metadata": {},
   "outputs": [
    {
     "data": {
      "text/plain": [
       "array([5, 6, 7])"
      ]
     },
     "execution_count": 147,
     "metadata": {},
     "output_type": "execute_result"
    }
   ],
   "source": [
    "a+5"
   ]
  },
  {
   "cell_type": "code",
   "execution_count": 151,
   "id": "4347eea5-2936-4390-bbed-d8bd174095e8",
   "metadata": {},
   "outputs": [],
   "source": [
    "b=np.ones((3,3))"
   ]
  },
  {
   "cell_type": "code",
   "execution_count": 153,
   "id": "6b06bdc0-0f8f-4bb2-9b6e-deeea902135a",
   "metadata": {},
   "outputs": [
    {
     "data": {
      "text/plain": [
       "array([[1., 1., 1.],\n",
       "       [1., 1., 1.],\n",
       "       [1., 1., 1.]])"
      ]
     },
     "execution_count": 153,
     "metadata": {},
     "output_type": "execute_result"
    }
   ],
   "source": [
    "b"
   ]
  },
  {
   "cell_type": "code",
   "execution_count": 185,
   "id": "694330d0-84a3-4ba7-812b-483b8a1c93ae",
   "metadata": {},
   "outputs": [
    {
     "data": {
      "text/plain": [
       "array([[0., 0., 0.],\n",
       "       [1., 1., 1.],\n",
       "       [2., 2., 2.]])"
      ]
     },
     "execution_count": 185,
     "metadata": {},
     "output_type": "execute_result"
    }
   ],
   "source": [
    "b*a.T"
   ]
  },
  {
   "cell_type": "code",
   "execution_count": 187,
   "id": "da177213-f8b5-49e4-b472-5d5807935477",
   "metadata": {},
   "outputs": [],
   "source": [
    "c= np.arange(10000)\n"
   ]
  },
  {
   "cell_type": "code",
   "execution_count": 191,
   "id": "679c8260-d043-4cae-99a8-9f89f6c72a3e",
   "metadata": {},
   "outputs": [
    {
     "name": "stdout",
     "output_type": "stream",
     "text": [
      "622 μs ± 17.6 μs per loop (mean ± std. dev. of 7 runs, 1,000 loops each)\n",
      "8.25 μs ± 365 ns per loop (mean ± std. dev. of 7 runs, 100,000 loops each)\n"
     ]
    }
   ],
   "source": [
    "%timeit sum(c)\n",
    "%timeit np.sum(sum)"
   ]
  },
  {
   "cell_type": "code",
   "execution_count": 211,
   "id": "228bc3c5-ff0a-439f-9fcc-38e4deeb0c9d",
   "metadata": {},
   "outputs": [
    {
     "data": {
      "text/plain": [
       "4999.5"
      ]
     },
     "execution_count": 211,
     "metadata": {},
     "output_type": "execute_result"
    }
   ],
   "source": [
    "np.mean(c)\n"
   ]
  },
  {
   "cell_type": "code",
   "execution_count": 209,
   "id": "28e4a1c9-24bc-44e1-a379-2c52e85d08c0",
   "metadata": {},
   "outputs": [
    {
     "data": {
      "text/plain": [
       "9999"
      ]
     },
     "execution_count": 209,
     "metadata": {},
     "output_type": "execute_result"
    }
   ],
   "source": [
    "np.max(c)"
   ]
  },
  {
   "cell_type": "code",
   "execution_count": 217,
   "id": "dafc6366-0ded-42be-addf-d59ee773f0b5",
   "metadata": {},
   "outputs": [
    {
     "data": {
      "text/plain": [
       "147.32277488562318"
      ]
     },
     "execution_count": 217,
     "metadata": {},
     "output_type": "execute_result"
    }
   ],
   "source": [
    "dog_hight= np.array([600,470,170,430,300])\n",
    "np.std(dog_hight)"
   ]
  },
  {
   "cell_type": "code",
   "execution_count": 221,
   "id": "1adfc0e2-bf26-40de-b96a-bcd286d4abf7",
   "metadata": {},
   "outputs": [
    {
     "data": {
      "text/plain": [
       "21704.0"
      ]
     },
     "execution_count": 221,
     "metadata": {},
     "output_type": "execute_result"
    }
   ],
   "source": [
    "np.var(dog_hight)"
   ]
  },
  {
   "cell_type": "code",
   "execution_count": 223,
   "id": "1438f971-0297-4a14-a2c0-a362f0ea7479",
   "metadata": {},
   "outputs": [
    {
     "data": {
      "text/plain": [
       "147.32277488562318"
      ]
     },
     "execution_count": 223,
     "metadata": {},
     "output_type": "execute_result"
    }
   ],
   "source": [
    "np.sqrt(np.var(dog_hight))"
   ]
  },
  {
   "cell_type": "code",
   "execution_count": 233,
   "id": "97f094ad-736f-48fa-9987-79f08ba84d5b",
   "metadata": {},
   "outputs": [],
   "source": [
    "d=np.random.randint(0,10,(3,3))"
   ]
  },
  {
   "cell_type": "code",
   "execution_count": 235,
   "id": "a2d6ce63-4248-4500-aa74-10a72b602bcd",
   "metadata": {},
   "outputs": [
    {
     "data": {
      "text/plain": [
       "array([[5, 9, 9],\n",
       "       [2, 0, 9],\n",
       "       [1, 9, 0]])"
      ]
     },
     "execution_count": 235,
     "metadata": {},
     "output_type": "execute_result"
    }
   ],
   "source": [
    "d"
   ]
  },
  {
   "cell_type": "code",
   "execution_count": 237,
   "id": "f415f4c7-c96a-41c1-bc36-839250bf9d7b",
   "metadata": {},
   "outputs": [],
   "source": [
    "e=np.random.randint(0,10,(3,2))"
   ]
  },
  {
   "cell_type": "code",
   "execution_count": 239,
   "id": "3c9cdc81-cb5a-4d3c-aa06-63e9fb0df0de",
   "metadata": {},
   "outputs": [
    {
     "data": {
      "text/plain": [
       "array([[6, 0],\n",
       "       [4, 8],\n",
       "       [4, 3]])"
      ]
     },
     "execution_count": 239,
     "metadata": {},
     "output_type": "execute_result"
    }
   ],
   "source": [
    "e"
   ]
  },
  {
   "cell_type": "code",
   "execution_count": 241,
   "id": "a873063b-6b4e-4318-97dc-49c539aead4b",
   "metadata": {},
   "outputs": [
    {
     "data": {
      "text/plain": [
       "array([[102,  99],\n",
       "       [ 48,  27],\n",
       "       [ 42,  72]])"
      ]
     },
     "execution_count": 241,
     "metadata": {},
     "output_type": "execute_result"
    }
   ],
   "source": [
    "d@e"
   ]
  },
  {
   "cell_type": "code",
   "execution_count": 249,
   "id": "5eaafbd3-53be-4b60-84b4-2290c3dc20e0",
   "metadata": {},
   "outputs": [],
   "source": [
    "np.random.seed(0)\n",
    "sale_amounts=np.random.randint(20,size=(5,3))"
   ]
  },
  {
   "cell_type": "code",
   "execution_count": 251,
   "id": "536fe0d6-8edf-4974-9b1f-40032c1836a1",
   "metadata": {},
   "outputs": [
    {
     "data": {
      "text/plain": [
       "array([[12, 15,  0],\n",
       "       [ 3,  3,  7],\n",
       "       [ 9, 19, 18],\n",
       "       [ 4,  6, 12],\n",
       "       [ 1,  6,  7]])"
      ]
     },
     "execution_count": 251,
     "metadata": {},
     "output_type": "execute_result"
    }
   ],
   "source": [
    "sale_amounts"
   ]
  },
  {
   "cell_type": "code",
   "execution_count": 257,
   "id": "09658b35-298e-4cef-9bb7-8de96decadcd",
   "metadata": {},
   "outputs": [],
   "source": [
    "import pandas as pd\n",
    "sale = pd.DataFrame(sale_amounts,index=[\"Mon\",\"Tue\",\"Wed\",\"Thu\",\"Fri\"],columns=[\"AM\",\"PB\",\"CB\"])"
   ]
  },
  {
   "cell_type": "code",
   "execution_count": 259,
   "id": "43203a0b-526a-4095-ab23-d5f68d274eb2",
   "metadata": {},
   "outputs": [
    {
     "data": {
      "text/html": [
       "<div>\n",
       "<style scoped>\n",
       "    .dataframe tbody tr th:only-of-type {\n",
       "        vertical-align: middle;\n",
       "    }\n",
       "\n",
       "    .dataframe tbody tr th {\n",
       "        vertical-align: top;\n",
       "    }\n",
       "\n",
       "    .dataframe thead th {\n",
       "        text-align: right;\n",
       "    }\n",
       "</style>\n",
       "<table border=\"1\" class=\"dataframe\">\n",
       "  <thead>\n",
       "    <tr style=\"text-align: right;\">\n",
       "      <th></th>\n",
       "      <th>AM</th>\n",
       "      <th>PB</th>\n",
       "      <th>CB</th>\n",
       "    </tr>\n",
       "  </thead>\n",
       "  <tbody>\n",
       "    <tr>\n",
       "      <th>Mon</th>\n",
       "      <td>12</td>\n",
       "      <td>15</td>\n",
       "      <td>0</td>\n",
       "    </tr>\n",
       "    <tr>\n",
       "      <th>Tue</th>\n",
       "      <td>3</td>\n",
       "      <td>3</td>\n",
       "      <td>7</td>\n",
       "    </tr>\n",
       "    <tr>\n",
       "      <th>Wed</th>\n",
       "      <td>9</td>\n",
       "      <td>19</td>\n",
       "      <td>18</td>\n",
       "    </tr>\n",
       "    <tr>\n",
       "      <th>Thu</th>\n",
       "      <td>4</td>\n",
       "      <td>6</td>\n",
       "      <td>12</td>\n",
       "    </tr>\n",
       "    <tr>\n",
       "      <th>Fri</th>\n",
       "      <td>1</td>\n",
       "      <td>6</td>\n",
       "      <td>7</td>\n",
       "    </tr>\n",
       "  </tbody>\n",
       "</table>\n",
       "</div>"
      ],
      "text/plain": [
       "     AM  PB  CB\n",
       "Mon  12  15   0\n",
       "Tue   3   3   7\n",
       "Wed   9  19  18\n",
       "Thu   4   6  12\n",
       "Fri   1   6   7"
      ]
     },
     "execution_count": 259,
     "metadata": {},
     "output_type": "execute_result"
    }
   ],
   "source": [
    "sale"
   ]
  },
  {
   "cell_type": "code",
   "execution_count": 261,
   "id": "a6895b03-c80c-4ba2-a29f-8e82b1e201fa",
   "metadata": {},
   "outputs": [],
   "source": [
    "price= np.array([5,8,12])\n"
   ]
  },
  {
   "cell_type": "code",
   "execution_count": 263,
   "id": "ac6e8379-c2c1-4bd8-9593-118427b264e0",
   "metadata": {},
   "outputs": [
    {
     "data": {
      "text/plain": [
       "array([ 5,  8, 12])"
      ]
     },
     "execution_count": 263,
     "metadata": {},
     "output_type": "execute_result"
    }
   ],
   "source": [
    "price\n"
   ]
  },
  {
   "cell_type": "code",
   "execution_count": 269,
   "id": "6f1bf42f-3bcc-4699-8dd7-e46936361c8f",
   "metadata": {},
   "outputs": [],
   "source": [
    "butter_price = pd.DataFrame(price.reshape(1,3),index=[\"Price\"],columns=[\"AM\",\"PB\",\"CB\"])"
   ]
  },
  {
   "cell_type": "code",
   "execution_count": 271,
   "id": "23775ba8-6107-4e19-8960-48813b6151df",
   "metadata": {},
   "outputs": [
    {
     "data": {
      "text/html": [
       "<div>\n",
       "<style scoped>\n",
       "    .dataframe tbody tr th:only-of-type {\n",
       "        vertical-align: middle;\n",
       "    }\n",
       "\n",
       "    .dataframe tbody tr th {\n",
       "        vertical-align: top;\n",
       "    }\n",
       "\n",
       "    .dataframe thead th {\n",
       "        text-align: right;\n",
       "    }\n",
       "</style>\n",
       "<table border=\"1\" class=\"dataframe\">\n",
       "  <thead>\n",
       "    <tr style=\"text-align: right;\">\n",
       "      <th></th>\n",
       "      <th>AM</th>\n",
       "      <th>PB</th>\n",
       "      <th>CB</th>\n",
       "    </tr>\n",
       "  </thead>\n",
       "  <tbody>\n",
       "    <tr>\n",
       "      <th>Price</th>\n",
       "      <td>5</td>\n",
       "      <td>8</td>\n",
       "      <td>12</td>\n",
       "    </tr>\n",
       "  </tbody>\n",
       "</table>\n",
       "</div>"
      ],
      "text/plain": [
       "       AM  PB  CB\n",
       "Price   5   8  12"
      ]
     },
     "execution_count": 271,
     "metadata": {},
     "output_type": "execute_result"
    }
   ],
   "source": [
    "butter_price"
   ]
  },
  {
   "cell_type": "code",
   "execution_count": 275,
   "id": "c8de6363-ced2-486b-88cc-9e4097d7c446",
   "metadata": {},
   "outputs": [],
   "source": [
    "total_price = sale@butter_price.T"
   ]
  },
  {
   "cell_type": "code",
   "execution_count": 279,
   "id": "e16e7478-ad0a-40eb-ba15-9feca90e101f",
   "metadata": {},
   "outputs": [
    {
     "data": {
      "text/html": [
       "<div>\n",
       "<style scoped>\n",
       "    .dataframe tbody tr th:only-of-type {\n",
       "        vertical-align: middle;\n",
       "    }\n",
       "\n",
       "    .dataframe tbody tr th {\n",
       "        vertical-align: top;\n",
       "    }\n",
       "\n",
       "    .dataframe thead th {\n",
       "        text-align: right;\n",
       "    }\n",
       "</style>\n",
       "<table border=\"1\" class=\"dataframe\">\n",
       "  <thead>\n",
       "    <tr style=\"text-align: right;\">\n",
       "      <th></th>\n",
       "      <th>Price</th>\n",
       "    </tr>\n",
       "  </thead>\n",
       "  <tbody>\n",
       "    <tr>\n",
       "      <th>Mon</th>\n",
       "      <td>180</td>\n",
       "    </tr>\n",
       "    <tr>\n",
       "      <th>Tue</th>\n",
       "      <td>123</td>\n",
       "    </tr>\n",
       "    <tr>\n",
       "      <th>Wed</th>\n",
       "      <td>413</td>\n",
       "    </tr>\n",
       "    <tr>\n",
       "      <th>Thu</th>\n",
       "      <td>212</td>\n",
       "    </tr>\n",
       "    <tr>\n",
       "      <th>Fri</th>\n",
       "      <td>137</td>\n",
       "    </tr>\n",
       "  </tbody>\n",
       "</table>\n",
       "</div>"
      ],
      "text/plain": [
       "     Price\n",
       "Mon    180\n",
       "Tue    123\n",
       "Wed    413\n",
       "Thu    212\n",
       "Fri    137"
      ]
     },
     "execution_count": 279,
     "metadata": {},
     "output_type": "execute_result"
    }
   ],
   "source": [
    "total_price"
   ]
  },
  {
   "cell_type": "code",
   "execution_count": 283,
   "id": "3d8dd0db-f946-429c-87e3-b864cef54b6c",
   "metadata": {},
   "outputs": [],
   "source": [
    "sale[\"total\"]=total_price"
   ]
  },
  {
   "cell_type": "code",
   "execution_count": 285,
   "id": "c8cb9ec8-5453-4e78-a441-73900430c0f0",
   "metadata": {},
   "outputs": [
    {
     "data": {
      "text/html": [
       "<div>\n",
       "<style scoped>\n",
       "    .dataframe tbody tr th:only-of-type {\n",
       "        vertical-align: middle;\n",
       "    }\n",
       "\n",
       "    .dataframe tbody tr th {\n",
       "        vertical-align: top;\n",
       "    }\n",
       "\n",
       "    .dataframe thead th {\n",
       "        text-align: right;\n",
       "    }\n",
       "</style>\n",
       "<table border=\"1\" class=\"dataframe\">\n",
       "  <thead>\n",
       "    <tr style=\"text-align: right;\">\n",
       "      <th></th>\n",
       "      <th>AM</th>\n",
       "      <th>PB</th>\n",
       "      <th>CB</th>\n",
       "      <th>total</th>\n",
       "    </tr>\n",
       "  </thead>\n",
       "  <tbody>\n",
       "    <tr>\n",
       "      <th>Mon</th>\n",
       "      <td>12</td>\n",
       "      <td>15</td>\n",
       "      <td>0</td>\n",
       "      <td>180</td>\n",
       "    </tr>\n",
       "    <tr>\n",
       "      <th>Tue</th>\n",
       "      <td>3</td>\n",
       "      <td>3</td>\n",
       "      <td>7</td>\n",
       "      <td>123</td>\n",
       "    </tr>\n",
       "    <tr>\n",
       "      <th>Wed</th>\n",
       "      <td>9</td>\n",
       "      <td>19</td>\n",
       "      <td>18</td>\n",
       "      <td>413</td>\n",
       "    </tr>\n",
       "    <tr>\n",
       "      <th>Thu</th>\n",
       "      <td>4</td>\n",
       "      <td>6</td>\n",
       "      <td>12</td>\n",
       "      <td>212</td>\n",
       "    </tr>\n",
       "    <tr>\n",
       "      <th>Fri</th>\n",
       "      <td>1</td>\n",
       "      <td>6</td>\n",
       "      <td>7</td>\n",
       "      <td>137</td>\n",
       "    </tr>\n",
       "  </tbody>\n",
       "</table>\n",
       "</div>"
      ],
      "text/plain": [
       "     AM  PB  CB  total\n",
       "Mon  12  15   0    180\n",
       "Tue   3   3   7    123\n",
       "Wed   9  19  18    413\n",
       "Thu   4   6  12    212\n",
       "Fri   1   6   7    137"
      ]
     },
     "execution_count": 285,
     "metadata": {},
     "output_type": "execute_result"
    }
   ],
   "source": [
    "sale"
   ]
  },
  {
   "cell_type": "code",
   "execution_count": null,
   "id": "3aabd0c3-b26d-4467-879c-dd92eed9e1db",
   "metadata": {},
   "outputs": [],
   "source": []
  }
 ],
 "metadata": {
  "kernelspec": {
   "display_name": "Python 3 (ipykernel)",
   "language": "python",
   "name": "python3"
  },
  "language_info": {
   "codemirror_mode": {
    "name": "ipython",
    "version": 3
   },
   "file_extension": ".py",
   "mimetype": "text/x-python",
   "name": "python",
   "nbconvert_exporter": "python",
   "pygments_lexer": "ipython3",
   "version": "3.12.4"
  }
 },
 "nbformat": 4,
 "nbformat_minor": 5
}
